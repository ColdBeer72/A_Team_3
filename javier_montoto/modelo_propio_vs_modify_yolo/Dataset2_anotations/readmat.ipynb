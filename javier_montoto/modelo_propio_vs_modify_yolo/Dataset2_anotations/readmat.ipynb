{
 "cells": [
  {
   "cell_type": "code",
   "execution_count": 1,
   "metadata": {},
   "outputs": [
    {
     "data": {
      "text/plain": [
       "dict"
      ]
     },
     "execution_count": 1,
     "metadata": {},
     "output_type": "execute_result"
    }
   ],
   "source": [
    "import scipy.io\n",
    "from pprint import pprint\n",
    "mat = scipy.io.loadmat('./mpii_human_pose_v1_u12_2/mpii_human_pose_v1_u12_1.mat')\n"
   ]
  },
  {
   "cell_type": "code",
   "execution_count": 2,
   "metadata": {},
   "outputs": [
    {
     "name": "stdout",
     "output_type": "stream",
     "text": [
      "Información de la imagen: {'image_name': '079716777.jpg', 'persons': []}\n"
     ]
    }
   ],
   "source": [
    "import scipy.io\n",
    "import numpy as np\n",
    "\n",
    "def buscar_imagen_por_nombre(mat_file_path, image_name):\n",
    "    # Cargar el archivo .mat\n",
    "    mat_data = scipy.io.loadmat(mat_file_path, squeeze_me=True, struct_as_record=False)\n",
    "    \n",
    "    # Obtener el campo de anotaciones\n",
    "    release_data = mat_data['RELEASE']\n",
    "    annolist = release_data.annolist\n",
    "\n",
    "    # Recorrer las anotaciones de cada imagen\n",
    "    for img_annotations in annolist:\n",
    "        # Obtener el nombre de la imagen\n",
    "        current_image_name = img_annotations.image.name\n",
    "        \n",
    "        # Comparar con el nombre de la imagen buscada\n",
    "        if current_image_name == image_name:\n",
    "            # Crear una lista para almacenar las anotaciones de las articulaciones de cada persona en la imagen\n",
    "            persons_data = []\n",
    "\n",
    "            # Comprobar si annorect es una lista o un solo objeto\n",
    "            annorects = img_annotations.annorect\n",
    "            if isinstance(annorects, np.ndarray):\n",
    "                annorects = annorects.tolist()  # Convertir ndarray a lista\n",
    "\n",
    "            if not isinstance(annorects, list):\n",
    "                annorects = [annorects]  # Asegurarse de que annorects sea una lista\n",
    "\n",
    "            # Recorrer las anotaciones de cada persona\n",
    "            for person in annorects:\n",
    "                if hasattr(person, 'annopoints') and hasattr(person.annopoints, 'point'):\n",
    "                    # Lista para almacenar las articulaciones de la persona\n",
    "                    joints_data = []\n",
    "\n",
    "                    points = person.annopoints.point\n",
    "                    if isinstance(points, np.ndarray):\n",
    "                        points = points.tolist()  # Convertir ndarray a lista\n",
    "\n",
    "                    if not isinstance(points, list):\n",
    "                        points = [points]  # Asegurarse de que points sea una lista\n",
    "\n",
    "                    for point in points:\n",
    "                        joint_info = {\n",
    "                            'id': int(point.id),  # Convertir a int para asegurarse de que sea JSON serializable\n",
    "                            'name': get_joint_name(int(point.id)),\n",
    "                            'x': int(point.x),\n",
    "                            'y': int(point.y),\n",
    "                            'is_visible': bool(point.is_visible) if hasattr(point, 'is_visible') else None\n",
    "                        }\n",
    "                        joints_data.append(joint_info)\n",
    "\n",
    "                    person_data = {\n",
    "                        'head_rect': {\n",
    "                            'x1': int(person.x1),\n",
    "                            'y1': int(person.y1),\n",
    "                            'x2': int(person.x2),\n",
    "                            'y2': int(person.y2)\n",
    "                        },\n",
    "                        'joints': joints_data\n",
    "                    }\n",
    "\n",
    "                    persons_data.append(person_data)\n",
    "\n",
    "            # Devolver la información de la imagen y sus personas\n",
    "            return {\n",
    "                'image_name': current_image_name,\n",
    "                'persons': persons_data\n",
    "            }\n",
    "\n",
    "    # Si la imagen no se encuentra, devolver None\n",
    "    return None\n",
    "\n",
    "def get_joint_name(joint_id):\n",
    "    # Mapeo de los IDs a los nombres de las articulaciones\n",
    "    joint_names = {\n",
    "        0: 'right_ankle',\n",
    "        1: 'right_knee',\n",
    "        2: 'right_hip',\n",
    "        3: 'left_hip',\n",
    "        4: 'left_knee',\n",
    "        5: 'left_ankle',\n",
    "        6: 'pelvis',\n",
    "        7: 'thorax',\n",
    "        8: 'upper_neck',\n",
    "        9: 'head_top',\n",
    "        10: 'right_wrist',\n",
    "        11: 'right_elbow',\n",
    "        12: 'right_shoulder',\n",
    "        13: 'left_shoulder',\n",
    "        14: 'left_elbow',\n",
    "        15: 'left_wrist'\n",
    "    }\n",
    "    return joint_names.get(joint_id, 'unknown')\n",
    "\n",
    "# Uso de la función\n",
    "mat_file_path = './mpii_human_pose_v1_u12_2/mpii_human_pose_v1_u12_1.mat'  # Reemplaza con la ruta a tu archivo .mat\n",
    "image_name = '079716777.jpg'\n",
    "result = buscar_imagen_por_nombre(mat_file_path, image_name)\n",
    "\n",
    "if result:\n",
    "    print(\"Información de la imagen:\", result)\n",
    "else:\n",
    "    print(\"Imagen no encontrada.\")\n"
   ]
  }
 ],
 "metadata": {
  "kernelspec": {
   "display_name": "venv",
   "language": "python",
   "name": "python3"
  },
  "language_info": {
   "codemirror_mode": {
    "name": "ipython",
    "version": 3
   },
   "file_extension": ".py",
   "mimetype": "text/x-python",
   "name": "python",
   "nbconvert_exporter": "python",
   "pygments_lexer": "ipython3",
   "version": "3.11.3"
  }
 },
 "nbformat": 4,
 "nbformat_minor": 2
}
